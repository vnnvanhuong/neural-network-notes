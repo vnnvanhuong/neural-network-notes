{
  "nbformat": 4,
  "nbformat_minor": 0,
  "metadata": {
    "colab": {
      "name": "Faster-R-CNN.ipynb",
      "provenance": [],
      "collapsed_sections": []
    },
    "kernelspec": {
      "name": "python3",
      "display_name": "Python 3"
    }
  },
  "cells": [
    {
      "cell_type": "markdown",
      "metadata": {
        "id": "IlemEBtkMhHw",
        "colab_type": "text"
      },
      "source": [
        "# Faster R-CNN Overview\n",
        "> Maintainer: Huong Nguyen (huong.nguyen@fansipan.io)"
      ]
    },
    {
      "cell_type": "markdown",
      "metadata": {
        "id": "errHfoDgM5Ap",
        "colab_type": "text"
      },
      "source": [
        "**Objectives**:\n",
        "1. Why Faster R-CNN matter\n",
        "2. Understanding Faster R-CNN architecture\n",
        "\n",
        "## 1. Why Faster R-CNN matter\n",
        "\n",
        "By using basic CNNs, we only can solve the problem with image classification which means the inputs are images containing only one object such as a flower, a cat, or a dog.\n",
        "\n",
        "<img src=\"https://upload.wikimedia.org/wikipedia/commons/thumb/5/52/Liliumbulbiferumflowertop.jpg/440px-Liliumbulbiferumflowertop.jpg\" height=\"200\"/>\n",
        "\n",
        "How about if an image contains more than one objects? Because we don't exactly know how many objects in the image, it's impossible to define a suitable output layer.Therefore, **the traditional CNN model can not be used to solve the objects detection problem.**\n",
        "\n",
        "<img src=\"https://i1.wp.com/nttuan8.com/wp-content/uploads/2019/04/ex.png?w=655&ssl=1\" height=\"250\"/>\n",
        "\n",
        "\n",
        "**R-CNN** (Region with CNN feature) came to address the above problem. So, how does R-CNN work? There are two steps:\n",
        "- Step1. Using Selective Search (SS) algorithm to obtain 2000 boxes which are potential to contain objects.\n",
        "- Step 2. classifying object for each box using CNN features.\n",
        "\n",
        "<img src=\"https://s3-ap-south-1.amazonaws.com/av-blog-media/wp-content/uploads/2018/10/rcnn.png\"/>\n",
        "\n",
        "Since **R-CNN** takes quite long time for training and it also takes quite long time for detecting an object, **R-CNN can not be used to solve the objects detection in real-time problem.**\n",
        "\n",
        "That was where **Fast R-CNN** was born to help. Fast R-CNN still uses SS for obtaining region proposals (boxes). The difference is that Fast R-CNN doesn't extract 2000 boxes rather than it put the image into a CNN to create convolutional feature map. Then, it finds the region proposal corresponding to feature map. \n",
        "\n",
        "<img src=\"https://s3-ap-south-1.amazonaws.com/av-blog-media/wp-content/uploads/2018/10/Fast-rcnn.png\"/>\n",
        "\n",
        "**Fast R-CNN** is better performance than R-CNN, but **Fast R-CNN is still not fast enough when works with large dataset due to SS**.\n",
        "\n",
        "**Faster R-CNN** was proposed to optimize the performance. Faster R-CNN doesn't use SS to produce region proposals instead it use a CNN called Region Proposal Network (RPN).\n",
        "\n",
        "## 2. Faster R-CNN architecture\n",
        "\n",
        "<img src=\"https://s3-ap-south-1.amazonaws.com/av-blog-media/wp-content/uploads/2018/10/Faster-rcnn.png\" />\n",
        "\n",
        "- Step1. Pass input into a CNN to get feature map\n",
        "- Step2. produce region proposals using RPN\n",
        "- Step3. apply ROI pooling to make all region proposals are in same size\n",
        "- Step4. pass region proposals into a full-connected layer to classify and predict bounding boxes for the image.\n",
        "\n",
        "\n",
        "**References**:\n",
        "- [Object detection với Faster R-CNN](https://nttuan8.com/bai-11-object-detection-voi-faster-r-cnn/)\n",
        "- [Faster R-CNN: Towards Real-Time Object Detection\n",
        "with Region Proposal Networks](https://papers.nips.cc/paper/5638-faster-r-cnn-towards-real-time-object-detection-with-region-proposal-networks.pdf)\n",
        "- [A Practical Implementation of the Faster R-CNN Algorithm for Object Detection (Part 2 – with Python codes)](https://www.analyticsvidhya.com/blog/2018/11/implementation-faster-r-cnn-python-object-detection/)"
      ]
    }
  ]
}