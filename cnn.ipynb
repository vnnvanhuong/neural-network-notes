{
  "nbformat": 4,
  "nbformat_minor": 0,
  "metadata": {
    "colab": {
      "name": "mission__cnn.ipynb",
      "provenance": [],
      "collapsed_sections": [],
      "toc_visible": true
    },
    "kernelspec": {
      "name": "python3",
      "display_name": "Python 3"
    },
    "accelerator": "GPU"
  },
  "cells": [
    {
      "cell_type": "markdown",
      "metadata": {
        "id": "FgG7MkD1rvM2",
        "colab_type": "text"
      },
      "source": [
        "# Convolutional Neural Networkss\n",
        "> Maintainer: Huong Nguyen (huong.nguyen@fansipan.io)\n",
        "\n",
        "1. Handwritten digits recognition with Keras CNN\n",
        "2. Understanding of filters, feature maps, and pooling\n",
        "3. Custom loss and metrics\n",
        "4. Multi-outputs\n",
        "5. Custom layers"
      ]
    },
    {
      "cell_type": "markdown",
      "metadata": {
        "id": "Bo02VVqdid0j",
        "colab_type": "text"
      },
      "source": [
        "## 1. Handwritten digits recognition with Keras CNN\n",
        "> Reference: [Handwritten Digit Recognition using Convolutional Neural Networks in Python with Keras](https://machinelearningmastery.com/handwritten-digit-recognition-using-convolutional-neural-networks-python-keras/)"
      ]
    },
    {
      "cell_type": "code",
      "metadata": {
        "id": "IDkAViNZgIT1",
        "colab_type": "code",
        "outputId": "dd579ecb-1f26-4a4d-9c1b-e4215e6cd73d",
        "colab": {
          "base_uri": "https://localhost:8080/",
          "height": 533
        }
      },
      "source": [
        "from keras.datasets import mnist\n",
        "from keras.models import Sequential\n",
        "from keras.layers import Dense\n",
        "from keras.layers import Dropout\n",
        "from keras.layers import Flatten\n",
        "from keras.layers.convolutional import Conv2D\n",
        "from keras.layers.convolutional import MaxPooling2D\n",
        "from keras.utils import np_utils\n",
        "\n",
        "# load dataset\n",
        "(train_input, train_label), (test_input, test_label) = mnist.load_data()\n",
        "\n",
        "# reshape to be [samples][width][height][channels]\n",
        "train_input = train_input.reshape((train_input.shape[0], 28, 28, 1)).astype('float32')\n",
        "test_input = test_input.reshape((test_input.shape[0], 28, 28, 1)).astype('float32')\n",
        "\n",
        "# normalize inputs from 0-255 to 0-1\n",
        "train_input = train_input / 255\n",
        "test_input = test_input / 255\n",
        "\n",
        "# one hot encode outputs\n",
        "train_label = np_utils.to_categorical(train_label)\n",
        "test_label = np_utils.to_categorical(test_label)\n",
        "num_classes = test_label.shape[1]\n",
        "\n",
        "# build model\n",
        "model = Sequential()\n",
        "model.add(Conv2D(30, (5, 5), input_shape=(28, 28, 1), activation='relu'))\n",
        "model.add(MaxPooling2D())\n",
        "model.add(Conv2D(15, (3, 3), activation='relu'))\n",
        "model.add(MaxPooling2D())\n",
        "model.add(Dropout(0.2))\n",
        "model.add(Flatten())\n",
        "model.add(Dense(128, activation='relu'))\n",
        "model.add(Dense(50, activation='relu'))\n",
        "model.add(Dense(num_classes, activation='softmax'))\n",
        "\n",
        "model.compile(loss='categorical_crossentropy', optimizer='adam', metrics=['accuracy'])\n",
        "model.summary()\n",
        "\n",
        "# Train the model\n",
        "model.fit(train_input, train_label, validation_data=(test_input, test_label), epochs=10, batch_size=200, verbose=0)\n",
        "\n",
        "# Final evaluation of the model\n",
        "scores = model.evaluate(test_input, test_label, verbose=0)\n",
        "print(\"CNN Error: %.2f%%\" % (100-scores[1]*100))\n",
        "\n"
      ],
      "execution_count": 0,
      "outputs": [
        {
          "output_type": "stream",
          "text": [
            "Model: \"sequential_15\"\n",
            "_________________________________________________________________\n",
            "Layer (type)                 Output Shape              Param #   \n",
            "=================================================================\n",
            "conv2d_9 (Conv2D)            (None, 24, 24, 30)        780       \n",
            "_________________________________________________________________\n",
            "max_pooling2d_9 (MaxPooling2 (None, 12, 12, 30)        0         \n",
            "_________________________________________________________________\n",
            "conv2d_10 (Conv2D)           (None, 10, 10, 15)        4065      \n",
            "_________________________________________________________________\n",
            "max_pooling2d_10 (MaxPooling (None, 5, 5, 15)          0         \n",
            "_________________________________________________________________\n",
            "dropout_5 (Dropout)          (None, 5, 5, 15)          0         \n",
            "_________________________________________________________________\n",
            "flatten_5 (Flatten)          (None, 375)               0         \n",
            "_________________________________________________________________\n",
            "dense_32 (Dense)             (None, 128)               48128     \n",
            "_________________________________________________________________\n",
            "dense_33 (Dense)             (None, 50)                6450      \n",
            "_________________________________________________________________\n",
            "dense_34 (Dense)             (None, 10)                510       \n",
            "=================================================================\n",
            "Total params: 59,933\n",
            "Trainable params: 59,933\n",
            "Non-trainable params: 0\n",
            "_________________________________________________________________\n",
            "CNN Error: 0.81%\n"
          ],
          "name": "stdout"
        }
      ]
    },
    {
      "cell_type": "markdown",
      "metadata": {
        "id": "AnHnmMaCSMuJ",
        "colab_type": "text"
      },
      "source": [
        "## 2. Understanding of filters, feature maps, and pooling\n",
        "> Reference: [CS231n Convolutional Neural Networks for Visual Recognition](http://cs231n.github.io/convolutional-networks/#conv)"
      ]
    },
    {
      "cell_type": "markdown",
      "metadata": {
        "id": "AC2B4_1qTVpZ",
        "colab_type": "text"
      },
      "source": [
        "CNNs are **neural networks** which have neurons and learnable parameters (weight and bias) and its functions for performing training process (propagation and backpropagation). The main difference is that CNNs always **assump the inputs are images** so that it can apply convoluional teniques to reduce learnable parameters in the network.\n",
        "\n",
        "A simple CNN is a sequence of layers. Each layer has its function to transform input (3D volume) to another one. There are 2 main type of layer to build a full CNN inluding **Convolutional layer, pooling layer, and full-connected layer (a ANN)**.\n",
        "\n",
        "> [INPUT - CONV - POOL - FC].\n",
        "\n",
        "\n",
        "\n",
        "\n",
        "\n"
      ]
    },
    {
      "cell_type": "markdown",
      "metadata": {
        "id": "_sgSvtav84bX",
        "colab_type": "text"
      },
      "source": [
        "## 3. Custom loss function, and metrics\n",
        "\n",
        "Instead of using built-in loss functions and metrics, we can define our own ones"
      ]
    },
    {
      "cell_type": "code",
      "metadata": {
        "id": "HS58CdPJLOnE",
        "colab_type": "code",
        "colab": {}
      },
      "source": [
        "from keras import losses\n",
        "from keras import metrics\n",
        "\n",
        "losses.mse??\n",
        "# metrics.categorical_accuracy??"
      ],
      "execution_count": 0,
      "outputs": []
    },
    {
      "cell_type": "code",
      "metadata": {
        "id": "96QG0_9_-HXc",
        "colab_type": "code",
        "outputId": "9c52f1d8-aa8c-4280-fd96-a19462a5182c",
        "colab": {
          "base_uri": "https://localhost:8080/",
          "height": 698
        }
      },
      "source": [
        "from keras.datasets import mnist\n",
        "from keras.utils import to_categorical\n",
        "\n",
        "from keras.layers import Input, Dense, Flatten, Dropout, Conv2D, MaxPool2D\n",
        "from keras.models import Model\n",
        "\n",
        "from keras import backend as K\n",
        "\n",
        "import matplotlib.pyplot as plt\n",
        " \n",
        "# load dataset\n",
        "(x_train, y_train), (x_test, y_test) = mnist.load_data()\n",
        "\n",
        "# reshape inputs for CNNs\n",
        "x_train = x_train.reshape((x_train.shape[0], 28, 28, 1)).astype('float32')\n",
        "x_test = x_test.reshape((x_test.shape[0], 28, 28, 1)).astype('float32')\n",
        "\n",
        "# convert output\n",
        "y_train = to_categorical(y_train, 10)\n",
        "y_test = to_categorical(y_test, 10)\n",
        "\n",
        "class_names = ['0', '1', '2', '3', '4', '5', '6', '7', '8', '9']\n",
        "\n",
        "# define layers\n",
        "inputs = Input(shape=(28, 28, 1))\n",
        "conv1 = Conv2D(filters=30, kernel_size=(5,5), activation='relu')(inputs)\n",
        "pool1 = MaxPool2D()(conv1)\n",
        "conv2 = Conv2D(filters=15, kernel_size=(3, 3), activation='relu')(pool1)\n",
        "pool2 = MaxPool2D()(conv2)\n",
        "dropout = Dropout(rate=0.2)(pool2)\n",
        "flatten = Flatten()(dropout)\n",
        "outputs = Dense(units=len(class_names), activation='softmax')(flatten)\n",
        "\n",
        "# custom loss function\n",
        "def mean_squared_error(y_true, y_pred):\n",
        "    return K.mean(K.square(y_pred - y_true), axis=-1)\n",
        "\n",
        "# custom metrics\n",
        "def categorical_accuracy(y_true, y_pred):\n",
        "    return K.cast(K.equal(K.argmax(y_true, axis=-1),\n",
        "                          K.argmax(y_pred, axis=-1)),\n",
        "                  K.floatx())\n",
        "\n",
        "# create model\n",
        "model = Model(inputs, outputs)\n",
        "model.compile(optimizer='adam', loss=mean_squared_error, metrics=[categorical_accuracy])\n",
        "history = model.fit(x_train, y_train, epochs=10, batch_size=500, validation_data=(x_test, y_test))\n",
        "\n",
        "# plot training history\n",
        "fig = plt.figure()\n",
        "plt.subplot(2,1,1)\n",
        "plt.plot(history.history['categorical_accuracy'])\n",
        "plt.plot(history.history['val_categorical_accuracy'])\n",
        "plt.title('model accuracy')\n",
        "plt.ylabel('accuracy')\n",
        "plt.xlabel('epoch')\n",
        "plt.legend(['train', 'test'], loc='lower right')\n",
        "\n",
        "plt.subplot(2,1,2)\n",
        "plt.plot(history.history['loss'])\n",
        "plt.plot(history.history['val_loss'])\n",
        "\n",
        "plt.title('model loss')\n",
        "plt.ylabel('loss')\n",
        "plt.xlabel('epoch')\n",
        "plt.legend(['train', 'test'], loc='upper right')\n",
        "\n",
        "plt.tight_layout()\n",
        "\n",
        "plt.show()\n"
      ],
      "execution_count": 0,
      "outputs": [
        {
          "output_type": "stream",
          "text": [
            "Train on 60000 samples, validate on 10000 samples\n",
            "Epoch 1/10\n",
            "60000/60000 [==============================] - 2s 30us/step - loss: 0.1233 - categorical_accuracy: 0.3669 - val_loss: 0.0657 - val_categorical_accuracy: 0.6570\n",
            "Epoch 2/10\n",
            "60000/60000 [==============================] - 1s 21us/step - loss: 0.0493 - categorical_accuracy: 0.7424 - val_loss: 0.0290 - val_categorical_accuracy: 0.8502\n",
            "Epoch 3/10\n",
            "60000/60000 [==============================] - 1s 21us/step - loss: 0.0328 - categorical_accuracy: 0.8287 - val_loss: 0.0266 - val_categorical_accuracy: 0.8626\n",
            "Epoch 4/10\n",
            "60000/60000 [==============================] - 1s 21us/step - loss: 0.0301 - categorical_accuracy: 0.8433 - val_loss: 0.0254 - val_categorical_accuracy: 0.8676\n",
            "Epoch 5/10\n",
            "60000/60000 [==============================] - 1s 21us/step - loss: 0.0205 - categorical_accuracy: 0.8917 - val_loss: 0.0074 - val_categorical_accuracy: 0.9600\n",
            "Epoch 6/10\n",
            "60000/60000 [==============================] - 1s 21us/step - loss: 0.0101 - categorical_accuracy: 0.9458 - val_loss: 0.0057 - val_categorical_accuracy: 0.9693\n",
            "Epoch 7/10\n",
            "60000/60000 [==============================] - 1s 21us/step - loss: 0.0084 - categorical_accuracy: 0.9556 - val_loss: 0.0055 - val_categorical_accuracy: 0.9706\n",
            "Epoch 8/10\n",
            "60000/60000 [==============================] - 1s 21us/step - loss: 0.0074 - categorical_accuracy: 0.9605 - val_loss: 0.0047 - val_categorical_accuracy: 0.9744\n",
            "Epoch 9/10\n",
            "60000/60000 [==============================] - 1s 21us/step - loss: 0.0067 - categorical_accuracy: 0.9644 - val_loss: 0.0043 - val_categorical_accuracy: 0.9766\n",
            "Epoch 10/10\n",
            "60000/60000 [==============================] - 1s 22us/step - loss: 0.0064 - categorical_accuracy: 0.9661 - val_loss: 0.0041 - val_categorical_accuracy: 0.9778\n"
          ],
          "name": "stdout"
        },
        {
          "output_type": "display_data",
          "data": {
            "image/png": "[encoded data removed]",
            "text/plain": [
              "<Figure size 432x288 with 2 Axes>"
            ]
          },
          "metadata": {
            "tags": []
          }
        }
      ]
    },
    {
      "cell_type": "markdown",
      "metadata": {
        "id": "krbYSjvJdfN4",
        "colab_type": "text"
      },
      "source": [
        "## 4. Multi-outputs"
      ]
    },
    {
      "cell_type": "code",
      "metadata": {
        "id": "UeaYvMYdepEG",
        "colab_type": "code",
        "outputId": "a86da2a2-e0c0-4599-e644-4caa2175d1b8",
        "colab": {
          "base_uri": "https://localhost:8080/",
          "height": 1000
        }
      },
      "source": [
        "from keras.datasets import mnist\n",
        "from keras.layers import Flatten, Dense, Input\n",
        "from keras.models import Model\n",
        "from keras.optimizers import SGD, Adam\n",
        "from keras.utils import to_categorical\n",
        "\n",
        "import numpy as np\n",
        "import matplotlib.pyplot as plt\n",
        "\n",
        "# load dataset\n",
        "(x_train, y_train), (x_test, y_test) = mnist.load_data()\n",
        "\n",
        "# define network with multi-outputs\n",
        "inputs = Input(shape=(28, 28), name=\"inputs\")\n",
        "hidden = Flatten(name='flatten')(inputs)\n",
        "hidden = Dense(units=32, activation='relu', name=\"relu\")(hidden)\n",
        "output1 = Dense(units=10, activation='softmax', name=\"digit\")(hidden)\n",
        "output2 = Dense(units=1, name=\"pixel\")(hidden) # linear regression \n",
        "\n",
        "# create model\n",
        "model = Model(input=inputs, output=[output1, output2])\n",
        "model.compile(optimizer=Adam(lr=0.001),\n",
        "              loss=['categorical_crossentropy', 'mae'],\n",
        "              metrics={'digit': 'binary_accuracy', 'pixel': 'mae'})\n",
        "model.summary()\n",
        "\n",
        "# pre-process datatset\n",
        "x_train, x_test = x_train/255, x_test/255\n",
        "\n",
        "y_train1 = to_categorical(y_train, 10) # (60000, 10) 60000 elemenents, each element is a vector\n",
        "y_train2 = np.array([np.sum(x) for x in x_train]) # (60000, ) 60000 elemenents, each element is a scalar\n",
        "print(y_train2.shape)\n",
        "\n",
        "y_test1 = to_categorical(y_test, 10)\n",
        "y_test2 = np.array([np.sum(x) for x in x_test])\n",
        "\n",
        "# train\n",
        "history = model.fit(x=x_train, y=[y_train1, y_train2], batch_size=1000, epochs=20, verbose=1,\n",
        "                    validation_data=(x_test, [y_test1, y_test2]))\n",
        "\n",
        "# plot training history\n",
        "fig = plt.figure()\n",
        "plt.subplot(2,1,2)\n",
        "plt.plot(history.history['digit_loss'])\n",
        "plt.plot(history.history['val_digit_loss'])\n",
        "plt.plot(history.history['pixel_loss'])\n",
        "plt.plot(history.history['val_pixel_loss'])\n",
        "\n",
        "plt.title('model loss')\n",
        "plt.ylabel('loss')\n",
        "plt.xlabel('epoch')\n",
        "plt.legend(['digit_loss', 'val_digit_loss', 'pixel_loss', 'val_pixel_loss'], loc='upper right')\n",
        "\n",
        "plt.tight_layout()\n",
        "\n",
        "plt.show()\n",
        "\n",
        "# use multi-ouputs\n",
        "p = model.predict(x_test[:10])\n",
        "\n",
        "p_digits = p[0]\n",
        "p_pixels = p[1]\n",
        "\n",
        "print('(Input Digit , Input Pixel) -> (Predicted Digit , Predicted Pixel) ')\n",
        "for i in range(10):\n",
        "\tprint(\"({}, {}) -> ({}, {})\".format(np.argmax(y_test1[i]), np.sum(x_test[i]), np.argmax(p_digits[i]), p_pixels[i, 0]))"
      ],
      "execution_count": 0,
      "outputs": [
        {
          "output_type": "stream",
          "text": [
            "Using TensorFlow backend.\n"
          ],
          "name": "stderr"
        },
        {
          "output_type": "display_data",
          "data": {
            "text/html": [
              "<p style=\"color: red;\">\n",
              "The default version of TensorFlow in Colab will soon switch to TensorFlow 2.x.<br>\n",
              "We recommend you <a href=\"https://www.tensorflow.org/guide/migrate\" target=\"_blank\">upgrade</a> now \n",
              "or ensure your notebook will continue to use TensorFlow 1.x via the <code>%tensorflow_version 1.x</code> magic:\n",
              "<a href=\"https://colab.research.google.com/notebooks/tensorflow_version.ipynb\" target=\"_blank\">more info</a>.</p>\n"
            ],
            "text/plain": [
              "<IPython.core.display.HTML object>"
            ]
          },
          "metadata": {
            "tags": []
          }
        },
        {
          "output_type": "stream",
          "text": [
            "Downloading data from https://s3.amazonaws.com/img-datasets/mnist.npz\n",
            "11493376/11490434 [==============================] - 1s 0us/step\n",
            "WARNING:tensorflow:From /usr/local/lib/python3.6/dist-packages/keras/backend/tensorflow_backend.py:541: The name tf.placeholder is deprecated. Please use tf.compat.v1.placeholder instead.\n",
            "\n",
            "WARNING:tensorflow:From /usr/local/lib/python3.6/dist-packages/keras/backend/tensorflow_backend.py:4432: The name tf.random_uniform is deprecated. Please use tf.random.uniform instead.\n",
            "\n",
            "WARNING:tensorflow:From /usr/local/lib/python3.6/dist-packages/keras/backend/tensorflow_backend.py:66: The name tf.get_default_graph is deprecated. Please use tf.compat.v1.get_default_graph instead.\n",
            "\n",
            "WARNING:tensorflow:From /usr/local/lib/python3.6/dist-packages/keras/optimizers.py:793: The name tf.train.Optimizer is deprecated. Please use tf.compat.v1.train.Optimizer instead.\n",
            "\n",
            "WARNING:tensorflow:From /usr/local/lib/python3.6/dist-packages/keras/backend/tensorflow_backend.py:3576: The name tf.log is deprecated. Please use tf.math.log instead.\n",
            "\n",
            "Model: \"model_1\"\n",
            "__________________________________________________________________________________________________\n",
            "Layer (type)                    Output Shape         Param #     Connected to                     \n",
            "==================================================================================================\n",
            "inputs (InputLayer)             (None, 28, 28)       0                                            \n",
            "__________________________________________________________________________________________________\n",
            "flatten (Flatten)               (None, 784)          0           inputs[0][0]                     \n",
            "__________________________________________________________________________________________________\n",
            "relu (Dense)                    (None, 32)           25120       flatten[0][0]                    \n",
            "__________________________________________________________________________________________________\n",
            "digit (Dense)                   (None, 10)           330         relu[0][0]                       \n",
            "__________________________________________________________________________________________________\n",
            "pixel (Dense)                   (None, 1)            33          relu[0][0]                       \n",
            "==================================================================================================\n",
            "Total params: 25,483\n",
            "Trainable params: 25,483\n",
            "Non-trainable params: 0\n",
            "__________________________________________________________________________________________________\n"
          ],
          "name": "stdout"
        },
        {
          "output_type": "stream",
          "text": [
            "/usr/local/lib/python3.6/dist-packages/ipykernel_launcher.py:21: UserWarning: Update your `Model` call to the Keras 2 API: `Model(inputs=Tensor(\"in..., outputs=[<tf.Tenso...)`\n"
          ],
          "name": "stderr"
        },
        {
          "output_type": "stream",
          "text": [
            "(60000,)\n",
            "WARNING:tensorflow:From /usr/local/lib/python3.6/dist-packages/tensorflow_core/python/ops/math_grad.py:1424: where (from tensorflow.python.ops.array_ops) is deprecated and will be removed in a future version.\n",
            "Instructions for updating:\n",
            "Use tf.where in 2.0, which has the same broadcast rule as np.where\n",
            "WARNING:tensorflow:From /usr/local/lib/python3.6/dist-packages/keras/backend/tensorflow_backend.py:1033: The name tf.assign_add is deprecated. Please use tf.compat.v1.assign_add instead.\n",
            "\n",
            "WARNING:tensorflow:From /usr/local/lib/python3.6/dist-packages/keras/backend/tensorflow_backend.py:1020: The name tf.assign is deprecated. Please use tf.compat.v1.assign instead.\n",
            "\n",
            "WARNING:tensorflow:From /usr/local/lib/python3.6/dist-packages/keras/backend/tensorflow_backend.py:3005: The name tf.Session is deprecated. Please use tf.compat.v1.Session instead.\n",
            "\n",
            "Train on 60000 samples, validate on 10000 samples\n",
            "Epoch 1/20\n",
            "WARNING:tensorflow:From /usr/local/lib/python3.6/dist-packages/keras/backend/tensorflow_backend.py:190: The name tf.get_default_session is deprecated. Please use tf.compat.v1.get_default_session instead.\n",
            "\n",
            "WARNING:tensorflow:From /usr/local/lib/python3.6/dist-packages/keras/backend/tensorflow_backend.py:197: The name tf.ConfigProto is deprecated. Please use tf.compat.v1.ConfigProto instead.\n",
            "\n",
            "WARNING:tensorflow:From /usr/local/lib/python3.6/dist-packages/keras/backend/tensorflow_backend.py:207: The name tf.global_variables is deprecated. Please use tf.compat.v1.global_variables instead.\n",
            "\n",
            "WARNING:tensorflow:From /usr/local/lib/python3.6/dist-packages/keras/backend/tensorflow_backend.py:216: The name tf.is_variable_initialized is deprecated. Please use tf.compat.v1.is_variable_initialized instead.\n",
            "\n",
            "WARNING:tensorflow:From /usr/local/lib/python3.6/dist-packages/keras/backend/tensorflow_backend.py:223: The name tf.variables_initializer is deprecated. Please use tf.compat.v1.variables_initializer instead.\n",
            "\n",
            "60000/60000 [==============================] - 5s 83us/step - loss: 90.6924 - digit_loss: 2.4210 - pixel_loss: 88.2715 - digit_binary_accuracy: 0.8998 - pixel_mean_absolute_error: 88.2715 - val_loss: 72.6763 - val_digit_loss: 1.8389 - val_pixel_loss: 70.8374 - val_digit_binary_accuracy: 0.9012 - val_pixel_mean_absolute_error: 70.8374\n",
            "Epoch 2/20\n",
            "60000/60000 [==============================] - 0s 8us/step - loss: 42.8358 - digit_loss: 1.5114 - pixel_loss: 41.3244 - digit_binary_accuracy: 0.9071 - pixel_mean_absolute_error: 41.3244 - val_loss: 6.6593 - val_digit_loss: 1.3480 - val_pixel_loss: 5.3113 - val_digit_binary_accuracy: 0.9128 - val_pixel_mean_absolute_error: 5.3113\n",
            "Epoch 3/20\n",
            "60000/60000 [==============================] - 1s 9us/step - loss: 2.5267 - digit_loss: 1.1408 - pixel_loss: 1.3859 - digit_binary_accuracy: 0.9262 - pixel_mean_absolute_error: 1.3859 - val_loss: 1.3188 - val_digit_loss: 0.9411 - val_pixel_loss: 0.3777 - val_digit_binary_accuracy: 0.9407 - val_pixel_mean_absolute_error: 0.3777\n",
            "Epoch 4/20\n",
            "60000/60000 [==============================] - 1s 8us/step - loss: 1.1407 - digit_loss: 0.8596 - pixel_loss: 0.2811 - digit_binary_accuracy: 0.9479 - pixel_mean_absolute_error: 0.2811 - val_loss: 0.9968 - val_digit_loss: 0.7631 - val_pixel_loss: 0.2337 - val_digit_binary_accuracy: 0.9556 - val_pixel_mean_absolute_error: 0.2337\n",
            "Epoch 5/20\n",
            "60000/60000 [==============================] - 0s 8us/step - loss: 0.9368 - digit_loss: 0.7211 - pixel_loss: 0.2156 - digit_binary_accuracy: 0.9589 - pixel_mean_absolute_error: 0.2156 - val_loss: 0.8528 - val_digit_loss: 0.6559 - val_pixel_loss: 0.1968 - val_digit_binary_accuracy: 0.9634 - val_pixel_mean_absolute_error: 0.1968\n",
            "Epoch 6/20\n",
            "60000/60000 [==============================] - 1s 9us/step - loss: 0.8163 - digit_loss: 0.6345 - pixel_loss: 0.1818 - digit_binary_accuracy: 0.9645 - pixel_mean_absolute_error: 0.1818 - val_loss: 0.7539 - val_digit_loss: 0.5864 - val_pixel_loss: 0.1676 - val_digit_binary_accuracy: 0.9682 - val_pixel_mean_absolute_error: 0.1676\n",
            "Epoch 7/20\n",
            "60000/60000 [==============================] - 1s 9us/step - loss: 0.7125 - digit_loss: 0.5647 - pixel_loss: 0.1478 - digit_binary_accuracy: 0.9693 - pixel_mean_absolute_error: 0.1478 - val_loss: 0.6436 - val_digit_loss: 0.5148 - val_pixel_loss: 0.1287 - val_digit_binary_accuracy: 0.9729 - val_pixel_mean_absolute_error: 0.1287\n",
            "Epoch 8/20\n",
            "60000/60000 [==============================] - 1s 9us/step - loss: 0.6142 - digit_loss: 0.5006 - pixel_loss: 0.1137 - digit_binary_accuracy: 0.9732 - pixel_mean_absolute_error: 0.1137 - val_loss: 0.5536 - val_digit_loss: 0.4560 - val_pixel_loss: 0.0975 - val_digit_binary_accuracy: 0.9760 - val_pixel_mean_absolute_error: 0.0975\n",
            "Epoch 9/20\n",
            "60000/60000 [==============================] - 1s 9us/step - loss: 0.5326 - digit_loss: 0.4474 - pixel_loss: 0.0851 - digit_binary_accuracy: 0.9759 - pixel_mean_absolute_error: 0.0851 - val_loss: 0.4838 - val_digit_loss: 0.4114 - val_pixel_loss: 0.0724 - val_digit_binary_accuracy: 0.9780 - val_pixel_mean_absolute_error: 0.0724\n",
            "Epoch 10/20\n",
            "60000/60000 [==============================] - 1s 8us/step - loss: 0.4761 - digit_loss: 0.4098 - pixel_loss: 0.0664 - digit_binary_accuracy: 0.9780 - pixel_mean_absolute_error: 0.0664 - val_loss: 0.4732 - val_digit_loss: 0.3821 - val_pixel_loss: 0.0911 - val_digit_binary_accuracy: 0.9800 - val_pixel_mean_absolute_error: 0.0911\n",
            "Epoch 11/20\n",
            "60000/60000 [==============================] - 1s 9us/step - loss: 0.4446 - digit_loss: 0.3853 - pixel_loss: 0.0593 - digit_binary_accuracy: 0.9794 - pixel_mean_absolute_error: 0.0593 - val_loss: 0.4054 - val_digit_loss: 0.3651 - val_pixel_loss: 0.0403 - val_digit_binary_accuracy: 0.9810 - val_pixel_mean_absolute_error: 0.0403\n",
            "Epoch 12/20\n",
            "60000/60000 [==============================] - 1s 9us/step - loss: 0.4764 - digit_loss: 0.3700 - pixel_loss: 0.1064 - digit_binary_accuracy: 0.9802 - pixel_mean_absolute_error: 0.1064 - val_loss: 0.4286 - val_digit_loss: 0.3552 - val_pixel_loss: 0.0734 - val_digit_binary_accuracy: 0.9813 - val_pixel_mean_absolute_error: 0.0734\n",
            "Epoch 13/20\n",
            "60000/60000 [==============================] - 0s 8us/step - loss: 0.4597 - digit_loss: 0.3580 - pixel_loss: 0.1017 - digit_binary_accuracy: 0.9808 - pixel_mean_absolute_error: 0.1017 - val_loss: 0.4331 - val_digit_loss: 0.3452 - val_pixel_loss: 0.0878 - val_digit_binary_accuracy: 0.9819 - val_pixel_mean_absolute_error: 0.0878\n",
            "Epoch 14/20\n",
            "60000/60000 [==============================] - 0s 8us/step - loss: 0.4414 - digit_loss: 0.3493 - pixel_loss: 0.0921 - digit_binary_accuracy: 0.9812 - pixel_mean_absolute_error: 0.0921 - val_loss: 0.4195 - val_digit_loss: 0.3364 - val_pixel_loss: 0.0830 - val_digit_binary_accuracy: 0.9822 - val_pixel_mean_absolute_error: 0.0830\n",
            "Epoch 15/20\n",
            "60000/60000 [==============================] - 0s 8us/step - loss: 0.4265 - digit_loss: 0.3410 - pixel_loss: 0.0855 - digit_binary_accuracy: 0.9817 - pixel_mean_absolute_error: 0.0855 - val_loss: 0.3984 - val_digit_loss: 0.3276 - val_pixel_loss: 0.0708 - val_digit_binary_accuracy: 0.9829 - val_pixel_mean_absolute_error: 0.0708\n",
            "Epoch 16/20\n",
            "60000/60000 [==============================] - 1s 9us/step - loss: 0.4146 - digit_loss: 0.3333 - pixel_loss: 0.0813 - digit_binary_accuracy: 0.9821 - pixel_mean_absolute_error: 0.0813 - val_loss: 0.3961 - val_digit_loss: 0.3229 - val_pixel_loss: 0.0731 - val_digit_binary_accuracy: 0.9830 - val_pixel_mean_absolute_error: 0.0731\n",
            "Epoch 17/20\n",
            "60000/60000 [==============================] - 1s 9us/step - loss: 0.4050 - digit_loss: 0.3274 - pixel_loss: 0.0776 - digit_binary_accuracy: 0.9823 - pixel_mean_absolute_error: 0.0776 - val_loss: 0.4061 - val_digit_loss: 0.3170 - val_pixel_loss: 0.0891 - val_digit_binary_accuracy: 0.9834 - val_pixel_mean_absolute_error: 0.0891\n",
            "Epoch 18/20\n",
            "60000/60000 [==============================] - 0s 8us/step - loss: 0.3950 - digit_loss: 0.3210 - pixel_loss: 0.0740 - digit_binary_accuracy: 0.9827 - pixel_mean_absolute_error: 0.0740 - val_loss: 0.3794 - val_digit_loss: 0.3141 - val_pixel_loss: 0.0653 - val_digit_binary_accuracy: 0.9836 - val_pixel_mean_absolute_error: 0.0653\n",
            "Epoch 19/20\n",
            "60000/60000 [==============================] - 1s 9us/step - loss: 0.3894 - digit_loss: 0.3158 - pixel_loss: 0.0736 - digit_binary_accuracy: 0.9829 - pixel_mean_absolute_error: 0.0736 - val_loss: 0.3746 - val_digit_loss: 0.3065 - val_pixel_loss: 0.0681 - val_digit_binary_accuracy: 0.9839 - val_pixel_mean_absolute_error: 0.0681\n",
            "Epoch 20/20\n",
            "60000/60000 [==============================] - 1s 9us/step - loss: 0.3820 - digit_loss: 0.3104 - pixel_loss: 0.0716 - digit_binary_accuracy: 0.9832 - pixel_mean_absolute_error: 0.0716 - val_loss: 0.3858 - val_digit_loss: 0.3017 - val_pixel_loss: 0.0841 - val_digit_binary_accuracy: 0.9842 - val_pixel_mean_absolute_error: 0.0841\n"
          ],
          "name": "stdout"
        },
        {
          "output_type": "display_data",
          "data": {
            "image/png": "[encoded data removed]",
            "text/plain": [
              "<Figure size 432x288 with 1 Axes>"
            ]
          },
          "metadata": {
            "tags": []
          }
        },
        {
          "output_type": "stream",
          "text": [
            "(Input Digit , Input Pixel) -> (Predicted Digit , Predicted Pixel) \n",
            "(7, 72.3686274509804) -> (7, 72.31289672851562)\n",
            "(2, 113.13725490196077) -> (2, 113.15975189208984)\n",
            "(1, 38.70980392156863) -> (1, 38.68938446044922)\n",
            "(0, 145.1529411764706) -> (0, 145.04869079589844)\n",
            "(4, 75.43921568627452) -> (4, 75.41152954101562)\n",
            "(1, 54.33333333333333) -> (1, 54.30049514770508)\n",
            "(4, 83.07450980392157) -> (4, 82.98036193847656)\n",
            "(9, 82.59607843137255) -> (9, 82.5544204711914)\n",
            "(5, 120.52549019607844) -> (6, 120.40264892578125)\n",
            "(9, 122.94117647058823) -> (9, 122.86383056640625)\n"
          ],
          "name": "stdout"
        }
      ]
    },
    {
      "cell_type": "markdown",
      "metadata": {
        "id": "cr4pj-tjSmyh",
        "colab_type": "text"
      },
      "source": [
        "## 5. Custom layers"
      ]
    },
    {
      "cell_type": "code",
      "metadata": {
        "id": "bzM8lVoYSpcC",
        "colab_type": "code",
        "outputId": "b5a3fe2b-582e-4d07-998b-8a1b76512171",
        "colab": {
          "base_uri": "https://localhost:8080/",
          "height": 1000
        }
      },
      "source": [
        "from keras.datasets import mnist\n",
        "from keras.layers import Flatten, Dense, Input\n",
        "from keras.models import Model\n",
        "from keras.optimizers import SGD, Adam\n",
        "from keras.utils import to_categorical\n",
        "\n",
        "import numpy as np\n",
        "import matplotlib.pyplot as plt\n",
        "\n",
        "# load dataset\n",
        "(x_train, y_train), (x_test, y_test) = mnist.load_data()\n",
        "\n",
        "# TODO: define my own Keras layer\n",
        "class MyDigitConverterLayer(Dense):\n",
        "    def build(self, input_shape):\n",
        "        super(MyDigitConverterLayer, self).build(input_shape)\n",
        "\n",
        "    def call(self, inputs):\n",
        "        return super(MyDigitConverterLayer, self).call(inputs)\n",
        "\n",
        "    def compute_output_shape(self, input_shape):\n",
        "        return super(MyDigitConverterLayer, self).compute_output_shape(input_shape)\n",
        "\n",
        "# define network\n",
        "inputs = Input(shape=(28, 28), name=\"inputs\")\n",
        "hidden = Flatten(name='flatten')(inputs)\n",
        "outputs = MyDigitConverterLayer(units=10, name=\"digit\")(hidden)\n",
        "\n",
        "# create model\n",
        "model = Model(inputs, outputs)\n",
        "model.compile(optimizer=SGD(lr=0.001),\n",
        "              loss='mae',\n",
        "              metrics=['mae'])\n",
        "model.summary()\n",
        "\n",
        "# pre-process datatset\n",
        "x_train, x_test = x_train/255, x_test/255\n",
        "\n",
        "y_train = to_categorical(y_train, 10)\n",
        "y_test = to_categorical(y_test, 10)\n",
        "\n",
        "# train\n",
        "history = model.fit(x_train, y_train, batch_size=1000, epochs=20, verbose=1)\n",
        "\n",
        "# use multi-ouputs\n",
        "prediction = model.predict(x_test[:10])\n",
        "\n",
        "print('Input Digit -> Predicted Digit')\n",
        "for i in range(10):\n",
        "\tprint(\"{} --> {}\".format(y_test[i], prediction[i]))"
      ],
      "execution_count": 0,
      "outputs": [
        {
          "output_type": "stream",
          "text": [
            "Model: \"model_29\"\n",
            "_________________________________________________________________\n",
            "Layer (type)                 Output Shape              Param #   \n",
            "=================================================================\n",
            "inputs (InputLayer)          (None, 28, 28)            0         \n",
            "_________________________________________________________________\n",
            "flatten (Flatten)            (None, 784)               0         \n",
            "_________________________________________________________________\n",
            "digit (MyDigitConverterLayer (None, 10)                7850      \n",
            "=================================================================\n",
            "Total params: 7,850\n",
            "Trainable params: 7,850\n",
            "Non-trainable params: 0\n",
            "_________________________________________________________________\n",
            "Epoch 1/20\n",
            "60000/60000 [==============================] - 1s 24us/step - loss: 0.4053 - mean_absolute_error: 0.4053\n",
            "Epoch 2/20\n",
            "60000/60000 [==============================] - 0s 6us/step - loss: 0.3737 - mean_absolute_error: 0.3737\n",
            "Epoch 3/20\n",
            "60000/60000 [==============================] - 0s 5us/step - loss: 0.3551 - mean_absolute_error: 0.3551\n",
            "Epoch 4/20\n",
            "60000/60000 [==============================] - 0s 5us/step - loss: 0.3439 - mean_absolute_error: 0.3439\n",
            "Epoch 5/20\n",
            "60000/60000 [==============================] - 0s 5us/step - loss: 0.3364 - mean_absolute_error: 0.3364\n",
            "Epoch 6/20\n",
            "60000/60000 [==============================] - 0s 6us/step - loss: 0.3306 - mean_absolute_error: 0.3306\n",
            "Epoch 7/20\n",
            "60000/60000 [==============================] - 0s 5us/step - loss: 0.3255 - mean_absolute_error: 0.3255\n",
            "Epoch 8/20\n",
            "60000/60000 [==============================] - 0s 5us/step - loss: 0.3209 - mean_absolute_error: 0.3209\n",
            "Epoch 9/20\n",
            "60000/60000 [==============================] - 0s 5us/step - loss: 0.3166 - mean_absolute_error: 0.3166\n",
            "Epoch 10/20\n",
            "60000/60000 [==============================] - 0s 5us/step - loss: 0.3125 - mean_absolute_error: 0.3125\n",
            "Epoch 11/20\n",
            "60000/60000 [==============================] - 0s 6us/step - loss: 0.3086 - mean_absolute_error: 0.3086\n",
            "Epoch 12/20\n",
            "60000/60000 [==============================] - 0s 5us/step - loss: 0.3048 - mean_absolute_error: 0.3048\n",
            "Epoch 13/20\n",
            "60000/60000 [==============================] - 0s 6us/step - loss: 0.3013 - mean_absolute_error: 0.3013\n",
            "Epoch 14/20\n",
            "60000/60000 [==============================] - 0s 5us/step - loss: 0.2979 - mean_absolute_error: 0.2979\n",
            "Epoch 15/20\n",
            "60000/60000 [==============================] - 0s 5us/step - loss: 0.2946 - mean_absolute_error: 0.2946\n",
            "Epoch 16/20\n",
            "60000/60000 [==============================] - 0s 5us/step - loss: 0.2915 - mean_absolute_error: 0.2915\n",
            "Epoch 17/20\n",
            "60000/60000 [==============================] - 0s 6us/step - loss: 0.2886 - mean_absolute_error: 0.2886\n",
            "Epoch 18/20\n",
            "60000/60000 [==============================] - 0s 5us/step - loss: 0.2858 - mean_absolute_error: 0.2858\n",
            "Epoch 19/20\n",
            "60000/60000 [==============================] - 0s 5us/step - loss: 0.2831 - mean_absolute_error: 0.2831\n",
            "Epoch 20/20\n",
            "60000/60000 [==============================] - 0s 5us/step - loss: 0.2805 - mean_absolute_error: 0.2805\n",
            "Input Digit -> Predicted Digit\n",
            "[0. 0. 0. 0. 0. 0. 0. 1. 0. 0.] --> [ 0.14861462 -0.11997689  0.09064037 -0.1223414   0.4487003  -0.22656772\n",
            " -0.20212545 -0.13787663  0.08528732 -0.36045146]\n",
            "[0. 0. 1. 0. 0. 0. 0. 0. 0. 0.] --> [-0.16368648 -0.30811992 -0.20806701 -0.25954753 -0.07291455 -0.06410624\n",
            "  0.385456   -0.02983502  0.05719972  0.03439974]\n",
            "[0. 1. 0. 0. 0. 0. 0. 0. 0. 0.] --> [-0.09887424  0.37849745  0.06803785  0.10210178 -0.27117193  0.0070552\n",
            " -0.39119938 -0.18888439 -0.05113725 -0.29136106]\n",
            "[1. 0. 0. 0. 0. 0. 0. 0. 0. 0.] --> [ 0.28647244  0.23221505  0.13043939 -0.114933    0.17159006  0.3531441\n",
            " -0.03518781  0.40166402 -0.19472152 -0.18755193]\n",
            "[0. 0. 0. 0. 1. 0. 0. 0. 0. 0.] --> [-0.31042147 -0.22617921  0.07721839 -0.02581878 -0.08140836  0.03109348\n",
            "  0.05716597  0.45274734 -0.43801874 -0.15483452]\n",
            "[0. 1. 0. 0. 0. 0. 0. 0. 0. 0.] --> [ 0.07115544  0.36774626  0.31529155  0.06074155 -0.11403246  0.07888065\n",
            " -0.3940057  -0.10705274  0.09774817 -0.19881532]\n",
            "[0. 0. 0. 0. 1. 0. 0. 0. 0. 0.] --> [ 0.6623833  -0.33326316 -0.23310827  0.09190252  0.02449489  0.2070678\n",
            " -0.1187586  -0.03488132 -0.31574687  0.00624813]\n",
            "[0. 0. 0. 0. 0. 0. 0. 0. 0. 1.] --> [-0.12106115  0.33157387 -0.07281435  0.1711914   0.20198344 -0.19916417\n",
            "  0.03631373 -0.2727893   0.06983392  0.01200729]\n",
            "[0. 0. 0. 0. 0. 1. 0. 0. 0. 0.] --> [ 0.16725253  0.41153315 -0.18899919 -0.37096342 -0.29324424  0.44250634\n",
            "  0.03148121  0.13954276  0.23259687  0.5619138 ]\n",
            "[0. 0. 0. 0. 0. 0. 0. 0. 0. 1.] --> [-0.14319792  0.04475833 -0.08593369  0.02380104  0.0926336  -0.01220181\n",
            " -0.452256    0.16830441 -0.40888262  0.58178455]\n"
          ],
          "name": "stdout"
        }
      ]
    }
  ]
}